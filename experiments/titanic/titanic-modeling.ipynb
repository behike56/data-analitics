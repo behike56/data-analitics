{
 "cells": [
  {
   "cell_type": "markdown",
   "id": "dd41dd91",
   "metadata": {},
   "source": [
    "# LightBGMによるモデリング\n",
    "\n",
    "決定木系の機械学習法。　\n",
    "\n",
    "## 機械学習手法の分類\n",
    "\n",
    "- 学習手法\n",
    "    - 決定木\n",
    "        - ランダムフォレスト\n",
    "            - 決定木を複数作成して組み合わせる方法。\n",
    "        - Gradient Boosting Decision Tree\n",
    "            - 決定木を逐次的に更新していく方法\n",
    "                - LightGBM\n",
    "                - XGBoost\n",
    "    - ニューラルネットワーク\n",
    "    - etc\n",
    "\n",
    "## 過学習と学習不足\n",
    "\n",
    "予測タスクにおける機械学習は、学習データから目的変数に対する説明変数のモデルを作成し、テストデータに適用するもの。\n",
    "\n",
    "既知のデータに過剰に適用しすぎると、未知のデータに対する精度が下がる可能性がある。これを過学習という。\n",
    "学習が不十分であれば、学習不足という。\n",
    "\n",
    "過学習を避ける範囲で学習を止めるチューニングをすることが機械学習において肝要となる。\n",
    "\n",
    "## チューニング方法\n",
    "\n",
    "過学習をさけるために学習データから検証データを分離する方法。\n",
    "\n",
    "- ホールドアウト\n",
    "    - 一定比率で学習データと検証データを分ける方法。\n",
    "    - 検証データに対する精度を見ながらモデルの学習を進める場合、検証データでの予測に過度に適合してしまう可能性がある。\n",
    "- クロスバリデーション\n",
    "    - ある程度データがある場合に向いている。\n",
    "    - データ全体を任意のブロックに分割しそのうち１つを検証データ、残りを学習データとすることを分割個数分繰り返す方法。\n",
    "- ジャックナイフ法\n",
    "    - データが少ない場合に向いている。\n",
    "    - 全テストデータのうち１つを検証データとし、残りを学習データとすることを全データ分繰り返す方法。"
   ]
  },
  {
   "cell_type": "markdown",
   "id": "bf4d43a2",
   "metadata": {},
   "source": [
    "## ホールドアウト、クロスバリデーションでチューニングする"
   ]
  },
  {
   "cell_type": "code",
   "execution_count": 19,
   "id": "e34150a0",
   "metadata": {},
   "outputs": [],
   "source": [
    "import pandas as pd\n",
    "import lightgbm as lgb\n",
    "\n",
    "from sklearn.model_selection import train_test_split\n",
    "from sklearn.model_selection import KFold\n",
    "from sklearn.preprocessing import LabelEncoder\n"
   ]
  },
  {
   "cell_type": "code",
   "execution_count": 3,
   "id": "13dbb127",
   "metadata": {},
   "outputs": [],
   "source": [
    "train_df = pd.read_csv('./data/train.csv')\n",
    "test_df = pd.read_csv('./data/test.csv')"
   ]
  },
  {
   "cell_type": "code",
   "execution_count": 29,
   "id": "bedb9864",
   "metadata": {},
   "outputs": [
    {
     "name": "stdout",
     "output_type": "stream",
     "text": [
      "Embarked\n",
      "honorific\n"
     ]
    },
    {
     "name": "stderr",
     "output_type": "stream",
     "text": [
      "/var/folders/pt/v29l1vwx7c3_45d3f_v8knlm0000gn/T/ipykernel_15012/985456886.py:29: FutureWarning: A value is trying to be set on a copy of a DataFrame or Series through chained assignment using an inplace method.\n",
      "The behavior will change in pandas 3.0. This inplace method will never work because the intermediate object on which we are setting values always behaves as a copy.\n",
      "\n",
      "For example, when doing 'df[col].method(value, inplace=True)', try using 'df.method({col: value}, inplace=True)' or df[col] = df[col].method(value) instead, to perform the operation inplace on the original object.\n",
      "\n",
      "\n",
      "  all_df[\"alone\"].fillna(0, inplace=True)\n"
     ]
    }
   ],
   "source": [
    "all_df = pd.concat([train_df, test_df], sort=False).reset_index(drop=True)\n",
    "\n",
    "## 欠損値を置き換える\n",
    "## PclassごとのFareの平均値を計算\n",
    "Fare_mean = all_df[[\"Pclass\", \"Fare\"]].groupby(\"Pclass\").mean().reset_index()\n",
    "# 敬称を変数として追加する\n",
    "name_df = all_df[\"Name\"].str.split(pat=\"[,.]\", n=2, expand=True)\n",
    "name_df.columns = [\"family_name\", \"honorific\", \"name\"]\n",
    "# 先頭と末尾の空白文字の削除\n",
    "name_df[\"family_name\"] = name_df[\"family_name\"].str.strip()\n",
    "name_df[\"honorific\"] = name_df[\"honorific\"].str.strip()\n",
    "name_df[\"name\"] = name_df[\"name\"].str.strip()\n",
    "\n",
    "## ２つのDataFrameを結合\n",
    "all_df = pd.concat([all_df, name_df],axis=1)\n",
    "# 敬称ごとの平均年齢で年齢が欠損しているデータを穴埋めする\n",
    "\n",
    "honorific_age_mean = all_df[[\"honorific\", \"Age\"]].groupby(\"honorific\").mean().reset_index()\n",
    "honorific_age_mean.columns = [\"honorific\", \"honorific_Age\"]\n",
    "\n",
    "all_df = pd.merge(all_df, honorific_age_mean, on=\"honorific\", how=\"left\")\n",
    "all_df.loc[(all_df[\"Age\"].isnull()), \"Age\"] = all_df[\"honorific_Age\"]\n",
    "all_df = all_df.drop([\"honorific_Age\"],axis=1)\n",
    "# 家族人数を追加する\n",
    "all_df[\"family_num\"] = all_df[\"Parch\"] + all_df[\"SibSp\"]\n",
    "all_df[\"family_num\"].value_counts()\n",
    "# 家族人数が0かどうかを表す変数を追加\n",
    "all_df.loc[all_df[\"family_num\"] ==0, \"alone\"] = 1\n",
    "all_df[\"alone\"].fillna(0, inplace=True)\n",
    "\n",
    "target_columns = [\"PassengerId\", \"Name\", \"family_name\", \"name\", \"Ticket\", \"Cabin\"]\n",
    "\n",
    "if all(col in all_df.columns for col in target_columns):\n",
    "    all_df = all_df.drop(columns=[\"PassengerId\", \"Name\", \"family_name\", \"name\", \"Ticket\", \"Cabin\"], axis=1)\n",
    "\n",
    "all_df.loc[~(\n",
    "    (all_df[\"honorific\"] == \"Mr\") |\n",
    "    (all_df[\"honorific\"] == \"Miss\") |\n",
    "    (all_df[\"honorific\"] == \"Mrs\") |\n",
    "    (all_df[\"honorific\"] == \"Master\")),\n",
    "\"honorific\"] = \"other\"\n",
    "\n",
    "# Label Encoding\n",
    "\n",
    "le = LabelEncoder()\n",
    "le = le.fit(all_df[\"Sex\"])\n",
    "all_df[\"Sex\"] = le.transform(all_df[\"Sex\"])\n",
    "\n",
    "categories = all_df.columns[all_df.dtypes == \"object\"]\n",
    "\n",
    "for cat in categories:\n",
    "    le = LabelEncoder()\n",
    "    print(cat)\n",
    "    if all_df[cat].dtypes == \"object\":\n",
    "        le = le.fit(all_df[cat])\n",
    "        all_df[cat] = le.transform(all_df[cat])\n",
    "\n",
    "all_df = pd.merge(all_df, Fare_mean, on=\"Pclass\", how=\"left\")"
   ]
  },
  {
   "cell_type": "code",
   "execution_count": null,
   "id": "46bfcf70",
   "metadata": {},
   "outputs": [],
   "source": [
    "train_X = all_df[~all_df[\"Survived\"].isnull()].drop(\"Survived\", axis=1).reset_index(drop=True)\n",
    "train_Y = train_df[\"Survived\"]"
   ]
  },
  {
   "cell_type": "code",
   "execution_count": 31,
   "id": "130e5b6a",
   "metadata": {},
   "outputs": [],
   "source": [
    "# 学習データの20％を検証データの分割する\n",
    "\n",
    "X_train, X_valid, y_train, y_valid = train_test_split(train_X, train_Y, test_size=0.2)"
   ]
  },
  {
   "cell_type": "code",
   "execution_count": 32,
   "id": "999b12bb",
   "metadata": {},
   "outputs": [],
   "source": [
    "# LightGBM用のデータセットを作成\n",
    "\n",
    "categories = [\"Embarked\", \"Pclass\", \"Sex\", \"honorific\", \"alone\"]\n",
    "\n",
    "lgb_train = lgb.Dataset(X_train, y_train, categorical_feature=categories)\n",
    "lgb_eval = lgb.Dataset(X_train, y_train, categorical_feature=categories, reference=lgb_train)"
   ]
  },
  {
   "cell_type": "code",
   "execution_count": 33,
   "id": "d8bee7c9",
   "metadata": {},
   "outputs": [],
   "source": [
    "# ハイパーパラメーターを設定する\n",
    "\n",
    "lgbm_params = {\n",
    "    \"objective\": \"binary\",\n",
    "    \"random_seed\": 1234\n",
    "}"
   ]
  },
  {
   "cell_type": "code",
   "execution_count": null,
   "id": "3aee9615",
   "metadata": {},
   "outputs": [
    {
     "name": "stdout",
     "output_type": "stream",
     "text": [
      "[LightGBM] [Info] Number of positive: 283, number of negative: 429\n",
      "[LightGBM] [Info] Auto-choosing row-wise multi-threading, the overhead of testing was 0.002865 seconds.\n",
      "You can set `force_row_wise=true` to remove the overhead.\n",
      "And if memory is not enough, you can set `force_col_wise=true`.\n",
      "[LightGBM] [Info] Total Bins 228\n",
      "[LightGBM] [Info] Number of data points in the train set: 712, number of used features: 11\n",
      "[LightGBM] [Info] [binary:BoostFromScore]: pavg=0.397472 -> initscore=-0.416010\n",
      "[LightGBM] [Info] Start training from score -0.416010\n",
      "[LightGBM] [Warning] No further splits with positive gain, best gain: -inf\n",
      "Training until validation scores don't improve for 20 rounds\n",
      "[LightGBM] [Warning] No further splits with positive gain, best gain: -inf\n",
      "[LightGBM] [Warning] No further splits with positive gain, best gain: -inf\n",
      "[LightGBM] [Warning] No further splits with positive gain, best gain: -inf\n",
      "[LightGBM] [Warning] No further splits with positive gain, best gain: -inf\n",
      "[LightGBM] [Warning] No further splits with positive gain, best gain: -inf\n",
      "[LightGBM] [Warning] No further splits with positive gain, best gain: -inf\n",
      "[LightGBM] [Warning] No further splits with positive gain, best gain: -inf\n",
      "[LightGBM] [Warning] No further splits with positive gain, best gain: -inf\n",
      "[LightGBM] [Warning] No further splits with positive gain, best gain: -inf\n",
      "[10]\tvalid_0's binary_logloss: 0.431685\n",
      "[LightGBM] [Warning] No further splits with positive gain, best gain: -inf\n",
      "[LightGBM] [Warning] No further splits with positive gain, best gain: -inf\n",
      "[LightGBM] [Warning] No further splits with positive gain, best gain: -inf\n",
      "[LightGBM] [Warning] No further splits with positive gain, best gain: -inf\n",
      "[LightGBM] [Warning] No further splits with positive gain, best gain: -inf\n",
      "[LightGBM] [Warning] No further splits with positive gain, best gain: -inf\n",
      "[LightGBM] [Warning] No further splits with positive gain, best gain: -inf\n",
      "[LightGBM] [Warning] No further splits with positive gain, best gain: -inf\n",
      "[LightGBM] [Warning] No further splits with positive gain, best gain: -inf\n",
      "[LightGBM] [Warning] No further splits with positive gain, best gain: -inf\n",
      "[20]\tvalid_0's binary_logloss: 0.35172\n",
      "[LightGBM] [Warning] No further splits with positive gain, best gain: -inf\n",
      "[LightGBM] [Warning] No further splits with positive gain, best gain: -inf\n",
      "[LightGBM] [Warning] No further splits with positive gain, best gain: -inf\n",
      "[LightGBM] [Warning] No further splits with positive gain, best gain: -inf\n",
      "[LightGBM] [Warning] No further splits with positive gain, best gain: -inf\n",
      "[LightGBM] [Warning] No further splits with positive gain, best gain: -inf\n",
      "[LightGBM] [Warning] No further splits with positive gain, best gain: -inf\n",
      "[LightGBM] [Warning] No further splits with positive gain, best gain: -inf\n",
      "[LightGBM] [Warning] No further splits with positive gain, best gain: -inf\n",
      "[LightGBM] [Warning] No further splits with positive gain, best gain: -inf\n",
      "[30]\tvalid_0's binary_logloss: 0.307446\n",
      "[LightGBM] [Warning] No further splits with positive gain, best gain: -inf\n",
      "[LightGBM] [Warning] No further splits with positive gain, best gain: -inf\n",
      "[LightGBM] [Warning] No further splits with positive gain, best gain: -inf\n",
      "[LightGBM] [Warning] No further splits with positive gain, best gain: -inf\n",
      "[LightGBM] [Warning] No further splits with positive gain, best gain: -inf\n",
      "[LightGBM] [Warning] No further splits with positive gain, best gain: -inf\n",
      "[LightGBM] [Warning] No further splits with positive gain, best gain: -inf\n",
      "[LightGBM] [Warning] No further splits with positive gain, best gain: -inf\n",
      "[LightGBM] [Warning] No further splits with positive gain, best gain: -inf\n",
      "[40]\tvalid_0's binary_logloss: 0.272157\n",
      "[LightGBM] [Warning] No further splits with positive gain, best gain: -inf\n",
      "[LightGBM] [Warning] No further splits with positive gain, best gain: -inf\n",
      "[LightGBM] [Warning] No further splits with positive gain, best gain: -inf\n",
      "[LightGBM] [Warning] No further splits with positive gain, best gain: -inf\n",
      "[LightGBM] [Warning] No further splits with positive gain, best gain: -inf\n",
      "[LightGBM] [Warning] No further splits with positive gain, best gain: -inf\n",
      "[LightGBM] [Warning] No further splits with positive gain, best gain: -inf\n",
      "[LightGBM] [Warning] No further splits with positive gain, best gain: -inf\n",
      "[LightGBM] [Warning] No further splits with positive gain, best gain: -inf\n",
      "[LightGBM] [Warning] No further splits with positive gain, best gain: -inf\n",
      "[50]\tvalid_0's binary_logloss: 0.244908\n",
      "[LightGBM] [Warning] No further splits with positive gain, best gain: -inf\n",
      "[LightGBM] [Warning] No further splits with positive gain, best gain: -inf\n",
      "[LightGBM] [Warning] No further splits with positive gain, best gain: -inf\n",
      "[LightGBM] [Warning] No further splits with positive gain, best gain: -inf\n",
      "[LightGBM] [Warning] No further splits with positive gain, best gain: -inf\n",
      "[LightGBM] [Warning] No further splits with positive gain, best gain: -inf\n",
      "[LightGBM] [Warning] No further splits with positive gain, best gain: -inf\n",
      "[LightGBM] [Warning] No further splits with positive gain, best gain: -inf\n",
      "[LightGBM] [Warning] No further splits with positive gain, best gain: -inf\n",
      "[60]\tvalid_0's binary_logloss: 0.223808\n",
      "[LightGBM] [Warning] No further splits with positive gain, best gain: -inf\n",
      "[LightGBM] [Warning] No further splits with positive gain, best gain: -inf\n",
      "[LightGBM] [Warning] No further splits with positive gain, best gain: -inf\n",
      "[LightGBM] [Warning] No further splits with positive gain, best gain: -inf\n",
      "[LightGBM] [Warning] No further splits with positive gain, best gain: -inf\n",
      "[LightGBM] [Warning] No further splits with positive gain, best gain: -inf\n",
      "[LightGBM] [Warning] No further splits with positive gain, best gain: -inf\n",
      "[LightGBM] [Warning] No further splits with positive gain, best gain: -inf\n",
      "[LightGBM] [Warning] No further splits with positive gain, best gain: -inf\n",
      "[70]\tvalid_0's binary_logloss: 0.205796\n",
      "[LightGBM] [Warning] No further splits with positive gain, best gain: -inf\n",
      "[LightGBM] [Warning] No further splits with positive gain, best gain: -inf\n",
      "[LightGBM] [Warning] No further splits with positive gain, best gain: -inf\n",
      "[LightGBM] [Warning] No further splits with positive gain, best gain: -inf\n",
      "[LightGBM] [Warning] No further splits with positive gain, best gain: -inf\n",
      "[LightGBM] [Warning] No further splits with positive gain, best gain: -inf\n",
      "[LightGBM] [Warning] No further splits with positive gain, best gain: -inf\n",
      "[LightGBM] [Warning] No further splits with positive gain, best gain: -inf\n",
      "[LightGBM] [Warning] No further splits with positive gain, best gain: -inf\n",
      "[LightGBM] [Warning] No further splits with positive gain, best gain: -inf\n",
      "[80]\tvalid_0's binary_logloss: 0.192772\n",
      "[LightGBM] [Warning] No further splits with positive gain, best gain: -inf\n",
      "[LightGBM] [Warning] No further splits with positive gain, best gain: -inf\n",
      "[LightGBM] [Warning] No further splits with positive gain, best gain: -inf\n",
      "[LightGBM] [Warning] No further splits with positive gain, best gain: -inf\n",
      "[LightGBM] [Warning] No further splits with positive gain, best gain: -inf\n",
      "[LightGBM] [Warning] No further splits with positive gain, best gain: -inf\n",
      "[LightGBM] [Warning] No further splits with positive gain, best gain: -inf\n",
      "[LightGBM] [Warning] No further splits with positive gain, best gain: -inf\n",
      "[LightGBM] [Warning] No further splits with positive gain, best gain: -inf\n",
      "[90]\tvalid_0's binary_logloss: 0.179153\n",
      "[LightGBM] [Warning] No further splits with positive gain, best gain: -inf\n",
      "[LightGBM] [Warning] No further splits with positive gain, best gain: -inf\n",
      "[LightGBM] [Warning] No further splits with positive gain, best gain: -inf\n",
      "[LightGBM] [Warning] No further splits with positive gain, best gain: -inf\n",
      "[LightGBM] [Warning] No further splits with positive gain, best gain: -inf\n",
      "[LightGBM] [Warning] No further splits with positive gain, best gain: -inf\n",
      "[LightGBM] [Warning] No further splits with positive gain, best gain: -inf\n",
      "[100]\tvalid_0's binary_logloss: 0.167398\n",
      "Did not meet early stopping. Best iteration is:\n",
      "[100]\tvalid_0's binary_logloss: 0.167398\n"
     ]
    }
   ],
   "source": [
    "# LightGBMによる機械学習モデルを学習させる\n",
    "\n",
    "model_lgb = lgb.train(\n",
    "    lgbm_params,\n",
    "    lgb_train,\n",
    "    valid_sets=lgb_eval,\n",
    "    num_boost_round=100,\n",
    "    callbacks=[lgb.early_stopping(20), lgb.log_evaluation(period=10)]\n",
    "    )"
   ]
  },
  {
   "cell_type": "code",
   "execution_count": 35,
   "id": "94f06534",
   "metadata": {},
   "outputs": [
    {
     "data": {
      "text/plain": [
       "array([  99,   67, 1023,   61,   44, 1113,  135,   30,   88,   17,   18],\n",
       "      dtype=int32)"
      ]
     },
     "execution_count": 35,
     "metadata": {},
     "output_type": "execute_result"
    }
   ],
   "source": [
    "# 各変数の重要度を調べる\n",
    "\n",
    "model_lgb.feature_importance()"
   ]
  },
  {
   "cell_type": "code",
   "execution_count": 37,
   "id": "1e5f5c30",
   "metadata": {},
   "outputs": [
    {
     "data": {
      "text/plain": [
       "<Axes: >"
      ]
     },
     "execution_count": 37,
     "metadata": {},
     "output_type": "execute_result"
    },
    {
     "data": {
      "image/png": "[encoded data removed]",
      "text/plain": [
       "<Figure size 640x480 with 1 Axes>"
      ]
     },
     "metadata": {},
     "output_type": "display_data"
    }
   ],
   "source": [
    "importance = pd.DataFrame(model_lgb.feature_importance(), index=X_train.columns, columns=[\"importance\"]).sort_values(by=\"importance\", ascending=True)\n",
    "importance.plot.barh()"
   ]
  },
  {
   "cell_type": "code",
   "execution_count": 38,
   "id": "bf44ec7e",
   "metadata": {},
   "outputs": [],
   "source": [
    "# モデルを検証でーたに適用する\n",
    "\n",
    "y_pred = model_lgb.predict(X_valid, num_iteration=model_lgb.best_iteration)"
   ]
  },
  {
   "cell_type": "markdown",
   "id": "9416c238",
   "metadata": {},
   "source": [
    "## 予測精度を計測する\n",
    "\n"
   ]
  },
  {
   "cell_type": "code",
   "execution_count": null,
   "id": "eb0f13d7",
   "metadata": {},
   "outputs": [],
   "source": [
    "## "
   ]
  }
 ],
 "metadata": {
  "kernelspec": {
   "display_name": ".venv",
   "language": "python",
   "name": "python3"
  },
  "language_info": {
   "codemirror_mode": {
    "name": "ipython",
    "version": 3
   },
   "file_extension": ".py",
   "mimetype": "text/x-python",
   "name": "python",
   "nbconvert_exporter": "python",
   "pygments_lexer": "ipython3",
   "version": "3.12.3"
  }
 },
 "nbformat": 4,
 "nbformat_minor": 5
}
