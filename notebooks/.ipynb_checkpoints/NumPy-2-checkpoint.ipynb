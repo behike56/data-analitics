{
 "cells": [
  {
   "cell_type": "markdown",
   "id": "856a44bc-a084-41cf-ba0f-f5dc92a9817f",
   "metadata": {},
   "source": [
    "# NumPyの各機能"
   ]
  },
  {
   "cell_type": "code",
   "execution_count": 1,
   "id": "40051214-6b67-492a-9efb-37d63440f417",
   "metadata": {},
   "outputs": [],
   "source": [
    "import numpy as np"
   ]
  },
  {
   "cell_type": "code",
   "execution_count": 3,
   "id": "3b67cbee-4506-42a0-89ee-c26c13c46726",
   "metadata": {},
   "outputs": [],
   "source": [
    "a = np.arange(3)\n",
    "b = np.arange(-3, 3).reshape((2, 3))\n",
    "c = np.arange(1, 7).reshape((2, 3))\n",
    "d = np.arange(6).reshape((3, 2))\n",
    "e = np.linspace(-1, 1, 10)"
   ]
  },
  {
   "cell_type": "code",
   "execution_count": 5,
   "id": "9551ed59-3da4-462b-bc01-ea015ce47e10",
   "metadata": {},
   "outputs": [
    {
     "name": "stdout",
     "output_type": "stream",
     "text": [
      "a: [0 1 2]\n",
      "b: [[-3 -2 -1]\n",
      " [ 0  1  2]]\n",
      "c: [[1 2 3]\n",
      " [4 5 6]]\n",
      "d: [[0 1]\n",
      " [2 3]\n",
      " [4 5]]\n",
      "e: [-1.         -0.77777778 -0.55555556 -0.33333333 -0.11111111  0.11111111\n",
      "  0.33333333  0.55555556  0.77777778  1.        ]\n"
     ]
    }
   ],
   "source": [
    "print(\"a:\", a)\n",
    "print(\"b:\", b)\n",
    "print(\"c:\", c)\n",
    "print(\"d:\", d)\n",
    "print(\"e:\", e)"
   ]
  },
  {
   "cell_type": "code",
   "execution_count": 4,
   "id": "dc59ded8-65a3-4542-a501-1d179075a5af",
   "metadata": {},
   "outputs": [
    {
     "name": "stdout",
     "output_type": "stream",
     "text": [
      "a: (3,)\n",
      "b: (2, 3)\n",
      "c: (2, 3)\n",
      "d: (3, 2)\n",
      "e: (10,)\n"
     ]
    }
   ],
   "source": [
    "print(\"a:\", a.shape)\n",
    "print(\"b:\", b.shape)\n",
    "print(\"c:\", c.shape)\n",
    "print(\"d:\", d.shape)\n",
    "print(\"e:\", e.shape)"
   ]
  },
  {
   "cell_type": "markdown",
   "id": "0d8954c3-d4cc-4156-ba79-850848bb2edc",
   "metadata": {},
   "source": [
    "## ユニバーサルファンクション"
   ]
  },
  {
   "cell_type": "code",
   "execution_count": null,
   "id": "35f42479-b9a8-4c55-81f7-d8a3a0986b37",
   "metadata": {},
   "outputs": [],
   "source": []
  }
 ],
 "metadata": {
  "kernelspec": {
   "display_name": "Python (poetry)",
   "language": "python",
   "name": "poetry"
  },
  "language_info": {
   "codemirror_mode": {
    "name": "ipython",
    "version": 3
   },
   "file_extension": ".py",
   "mimetype": "text/x-python",
   "name": "python",
   "nbconvert_exporter": "python",
   "pygments_lexer": "ipython3",
   "version": "3.12.11"
  }
 },
 "nbformat": 4,
 "nbformat_minor": 5
}
