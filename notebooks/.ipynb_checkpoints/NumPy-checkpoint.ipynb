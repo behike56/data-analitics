{
 "cells": [
  {
   "cell_type": "code",
   "execution_count": 2,
   "id": "4acd86e0-287c-425d-8759-038539f6b54d",
   "metadata": {},
   "outputs": [],
   "source": [
    "import numpy as np"
   ]
  },
  {
   "cell_type": "markdown",
   "id": "a831e018-a762-4ef8-ae3c-f3f6cc1832b6",
   "metadata": {},
   "source": [
    "## 一次元配列"
   ]
  },
  {
   "cell_type": "code",
   "execution_count": 25,
   "id": "1756ac81-db45-4cb0-8e1c-aca6e7b9ca1b",
   "metadata": {},
   "outputs": [],
   "source": [
    "a = np.array([1, 2, 3])"
   ]
  },
  {
   "cell_type": "code",
   "execution_count": 26,
   "id": "d67be17a-6053-41de-b274-90db5dbea422",
   "metadata": {},
   "outputs": [
    {
     "data": {
      "text/plain": [
       "array([1, 2, 3])"
      ]
     },
     "execution_count": 26,
     "metadata": {},
     "output_type": "execute_result"
    }
   ],
   "source": [
    "a"
   ]
  },
  {
   "cell_type": "code",
   "execution_count": 27,
   "id": "72e9aa50-9267-4660-8fc5-d66d03bf87c1",
   "metadata": {},
   "outputs": [
    {
     "name": "stdout",
     "output_type": "stream",
     "text": [
      "[1 2 3]\n"
     ]
    }
   ],
   "source": [
    "print(a)"
   ]
  },
  {
   "cell_type": "code",
   "execution_count": 6,
   "id": "3c979e15-3a3b-4c24-b9a2-e08d31363b35",
   "metadata": {},
   "outputs": [
    {
     "data": {
      "text/plain": [
       "numpy.ndarray"
      ]
     },
     "execution_count": 6,
     "metadata": {},
     "output_type": "execute_result"
    }
   ],
   "source": [
    "type(a)"
   ]
  },
  {
   "cell_type": "markdown",
   "id": "defd0484-4810-421c-ac26-94d7b361c0fe",
   "metadata": {},
   "source": [
    "## shapeで、一次元配列の形状がわかる(行数, )"
   ]
  },
  {
   "cell_type": "code",
   "execution_count": 7,
   "id": "adbb5dab-c4d6-48bc-a7f7-83b0a8fc2bc0",
   "metadata": {},
   "outputs": [
    {
     "data": {
      "text/plain": [
       "(3,)"
      ]
     },
     "execution_count": 7,
     "metadata": {},
     "output_type": "execute_result"
    }
   ],
   "source": [
    "a.shape"
   ]
  },
  {
   "cell_type": "markdown",
   "id": "4e7d38c4-043b-41a0-9599-343677870363",
   "metadata": {},
   "source": [
    "## 二次元配列"
   ]
  },
  {
   "cell_type": "markdown",
   "id": "269a3336-24d0-4243-a1e6-83d06e7113f4",
   "metadata": {},
   "source": [
    "### shapeで、二次元配列の形状がわかる(行数, 列数)"
   ]
  },
  {
   "cell_type": "code",
   "execution_count": 8,
   "id": "9c92a129-b8a2-4b92-9e87-45b0187c2ad6",
   "metadata": {},
   "outputs": [],
   "source": [
    "b = np.array([[1, 2, 3],[4, 5, 6]])"
   ]
  },
  {
   "cell_type": "code",
   "execution_count": 9,
   "id": "4b3ac28b-8d9b-47db-8523-5b682f78fbe0",
   "metadata": {
    "scrolled": true
   },
   "outputs": [
    {
     "data": {
      "text/plain": [
       "(2, 3)"
      ]
     },
     "execution_count": 9,
     "metadata": {},
     "output_type": "execute_result"
    }
   ],
   "source": [
    "b.shape"
   ]
  },
  {
   "cell_type": "markdown",
   "id": "cae76504-cf8b-4cef-a035-8f6eec2e1a48",
   "metadata": {},
   "source": [
    "## 変形"
   ]
  },
  {
   "cell_type": "code",
   "execution_count": 10,
   "id": "65c49ef6-c1a1-4494-92d7-6068d7003fa1",
   "metadata": {},
   "outputs": [],
   "source": [
    "c1 = a = np.array([0, 1, 2, 3, 4, 6])"
   ]
  },
  {
   "cell_type": "code",
   "execution_count": 11,
   "id": "9de989d9-32e7-4622-b73c-78a80c39925d",
   "metadata": {},
   "outputs": [
    {
     "data": {
      "text/plain": [
       "array([0, 1, 2, 3, 4, 6])"
      ]
     },
     "execution_count": 11,
     "metadata": {},
     "output_type": "execute_result"
    }
   ],
   "source": [
    "c1"
   ]
  },
  {
   "cell_type": "markdown",
   "id": "95b34111-1f31-4039-9e01-9e1a9d3df178",
   "metadata": {},
   "source": [
    "### reshape　指定した次元の配列を作成する"
   ]
  },
  {
   "cell_type": "code",
   "execution_count": 12,
   "id": "b1387e47-7095-427e-91df-bcc90120dd8f",
   "metadata": {},
   "outputs": [],
   "source": [
    "c2 = c1.reshape((2, 3))"
   ]
  },
  {
   "cell_type": "code",
   "execution_count": 13,
   "id": "b4d4b49f-31b0-4f58-8507-8a82d41bfa13",
   "metadata": {},
   "outputs": [
    {
     "data": {
      "text/plain": [
       "array([[0, 1, 2],\n",
       "       [3, 4, 6]])"
      ]
     },
     "execution_count": 13,
     "metadata": {},
     "output_type": "execute_result"
    }
   ],
   "source": [
    "c2"
   ]
  },
  {
   "cell_type": "markdown",
   "id": "a66429de-405d-491d-b142-9e27b83d47e9",
   "metadata": {},
   "source": [
    "### ravel 多次元配列を一次元配列にする (参照を返す)"
   ]
  },
  {
   "cell_type": "code",
   "execution_count": 14,
   "id": "720d43f5-82c0-4ac8-8c71-55779e4a05ce",
   "metadata": {},
   "outputs": [],
   "source": [
    "c3 = c2.ravel()"
   ]
  },
  {
   "cell_type": "code",
   "execution_count": 15,
   "id": "e9a0ee6e-209f-40fd-9856-ac9cf2c67c5f",
   "metadata": {},
   "outputs": [
    {
     "data": {
      "text/plain": [
       "array([0, 1, 2, 3, 4, 6])"
      ]
     },
     "execution_count": 15,
     "metadata": {},
     "output_type": "execute_result"
    }
   ],
   "source": [
    "c3"
   ]
  },
  {
   "cell_type": "code",
   "execution_count": 16,
   "id": "409a69f8-9340-416f-9ece-fa2a066d3e1c",
   "metadata": {},
   "outputs": [],
   "source": [
    "x = np.array([[1, 2, 3],[4, 5, 6],[7, 8, 9]])"
   ]
  },
  {
   "cell_type": "code",
   "execution_count": null,
   "id": "fd79eda1-89d5-4dd0-9ed9-c109f494390b",
   "metadata": {},
   "outputs": [],
   "source": [
    "x1 = x.ravel()"
   ]
  },
  {
   "cell_type": "code",
   "execution_count": 19,
   "id": "c762dfa7-8b5e-4185-addf-dfbb8d3ffda7",
   "metadata": {},
   "outputs": [
    {
     "data": {
      "text/plain": [
       "array([1, 2, 3, 4, 5, 6, 7, 8, 9])"
      ]
     },
     "execution_count": 19,
     "metadata": {},
     "output_type": "execute_result"
    }
   ],
   "source": [
    "x1"
   ]
  },
  {
   "cell_type": "code",
   "execution_count": 20,
   "id": "fe219d32-239d-49ef-898b-a33774d55bd9",
   "metadata": {},
   "outputs": [],
   "source": [
    "x2 = x1.reshape(3, 3)"
   ]
  },
  {
   "cell_type": "code",
   "execution_count": 21,
   "id": "07831784-a609-47cf-aacf-4c77ee93c3d5",
   "metadata": {},
   "outputs": [
    {
     "data": {
      "text/plain": [
       "array([[1, 2, 3],\n",
       "       [4, 5, 6],\n",
       "       [7, 8, 9]])"
      ]
     },
     "execution_count": 21,
     "metadata": {},
     "output_type": "execute_result"
    }
   ],
   "source": [
    "x2"
   ]
  },
  {
   "cell_type": "markdown",
   "id": "01b20cfc-4c35-4846-987b-46cd64730f7f",
   "metadata": {},
   "source": [
    "### flatten　多次元配列を一次元配列にする (copyを返す)"
   ]
  },
  {
   "cell_type": "code",
   "execution_count": 22,
   "id": "3a3310a9-5b2b-44a5-9361-34873e0bff14",
   "metadata": {},
   "outputs": [],
   "source": [
    "c4 = c2.flatten()"
   ]
  },
  {
   "cell_type": "code",
   "execution_count": 23,
   "id": "2626ddf9-a38c-4bbd-ae29-28b7b7d85002",
   "metadata": {},
   "outputs": [
    {
     "data": {
      "text/plain": [
       "array([0, 1, 2, 3, 4, 6])"
      ]
     },
     "execution_count": 23,
     "metadata": {},
     "output_type": "execute_result"
    }
   ],
   "source": [
    "c4"
   ]
  },
  {
   "cell_type": "markdown",
   "id": "78570b8a-ed7d-43c0-be5d-f21344664def",
   "metadata": {},
   "source": [
    "## データ型"
   ]
  },
  {
   "cell_type": "code",
   "execution_count": 29,
   "id": "e72c8661-f738-4db5-9086-fd7c18725aaf",
   "metadata": {},
   "outputs": [
    {
     "data": {
      "text/plain": [
       "dtype('int64')"
      ]
     },
     "execution_count": 29,
     "metadata": {},
     "output_type": "execute_result"
    }
   ],
   "source": [
    "a.dtype"
   ]
  },
  {
   "cell_type": "markdown",
   "id": "e8d51066-8a6e-4446-a79f-4d2ea729ba6e",
   "metadata": {},
   "source": [
    "### 型(dtype)を指定して配列を作成する"
   ]
  },
  {
   "cell_type": "code",
   "execution_count": 31,
   "id": "0f8ff954-d61a-4ca7-a55d-c8d7bf62f70a",
   "metadata": {},
   "outputs": [],
   "source": [
    "d = np.array([1, 2], dtype=np.int16)"
   ]
  },
  {
   "cell_type": "code",
   "execution_count": 32,
   "id": "4783aab8-b406-4365-a330-714eb410652e",
   "metadata": {},
   "outputs": [
    {
     "data": {
      "text/plain": [
       "array([1, 2], dtype=int16)"
      ]
     },
     "execution_count": 32,
     "metadata": {},
     "output_type": "execute_result"
    }
   ],
   "source": [
    "d"
   ]
  },
  {
   "cell_type": "code",
   "execution_count": 33,
   "id": "6070ebbf-d3f4-4293-a6aa-8254e543810a",
   "metadata": {},
   "outputs": [
    {
     "data": {
      "text/plain": [
       "dtype('int16')"
      ]
     },
     "execution_count": 33,
     "metadata": {},
     "output_type": "execute_result"
    }
   ],
   "source": [
    "d.dtype"
   ]
  },
  {
   "cell_type": "markdown",
   "id": "853e5235-8b98-4cfa-bced-b2fbf7c284f6",
   "metadata": {},
   "source": [
    "### astype 型(dtype)を変換する"
   ]
  },
  {
   "cell_type": "code",
   "execution_count": 34,
   "id": "fff3f9e6-be27-4a5a-95ed-05fd0b5f6d4d",
   "metadata": {},
   "outputs": [
    {
     "data": {
      "text/plain": [
       "array([1., 2.], dtype=float16)"
      ]
     },
     "execution_count": 34,
     "metadata": {},
     "output_type": "execute_result"
    }
   ],
   "source": [
    "d.astype(np.float16)"
   ]
  },
  {
   "cell_type": "markdown",
   "id": "d04f8873-a827-4296-aa9c-1c8e47608532",
   "metadata": {},
   "source": [
    "## インデックスとスライス"
   ]
  },
  {
   "cell_type": "code",
   "execution_count": 35,
   "id": "11532f6e-c16f-4fbc-9c38-607fe025540b",
   "metadata": {},
   "outputs": [
    {
     "data": {
      "text/plain": [
       "array([1, 2, 3])"
      ]
     },
     "execution_count": 35,
     "metadata": {},
     "output_type": "execute_result"
    }
   ],
   "source": [
    "a"
   ]
  },
  {
   "cell_type": "markdown",
   "id": "c509bca1-1c11-44c7-b694-1e37cc4c09c5",
   "metadata": {},
   "source": [
    "### インデックス"
   ]
  },
  {
   "cell_type": "code",
   "execution_count": 36,
   "id": "621b552b-98e3-424c-9997-0a3017c0fb3f",
   "metadata": {},
   "outputs": [
    {
     "data": {
      "text/plain": [
       "np.int64(1)"
      ]
     },
     "execution_count": 36,
     "metadata": {},
     "output_type": "execute_result"
    }
   ],
   "source": [
    "a[0]"
   ]
  },
  {
   "cell_type": "markdown",
   "id": "56bfb7ae-cd19-4994-947f-db90e16b0795",
   "metadata": {},
   "source": [
    "### スライス"
   ]
  },
  {
   "cell_type": "code",
   "execution_count": 37,
   "id": "ee32ab4f-9c4a-48c1-af17-46a85a039dd9",
   "metadata": {},
   "outputs": [
    {
     "data": {
      "text/plain": [
       "array([1, 2, 3])"
      ]
     },
     "execution_count": 37,
     "metadata": {},
     "output_type": "execute_result"
    }
   ],
   "source": [
    "a[0:]"
   ]
  },
  {
   "cell_type": "code",
   "execution_count": 38,
   "id": "572dfe4a-7873-4b88-b57f-d5b44b85502f",
   "metadata": {},
   "outputs": [
    {
     "data": {
      "text/plain": [
       "np.int64(3)"
      ]
     },
     "execution_count": 38,
     "metadata": {},
     "output_type": "execute_result"
    }
   ],
   "source": [
    "a[-1]"
   ]
  },
  {
   "cell_type": "code",
   "execution_count": 39,
   "id": "f1f37826-a4bf-461d-b4b4-94ff41e5603d",
   "metadata": {},
   "outputs": [
    {
     "data": {
      "text/plain": [
       "array([[1, 2, 3],\n",
       "       [4, 5, 6]])"
      ]
     },
     "execution_count": 39,
     "metadata": {},
     "output_type": "execute_result"
    }
   ],
   "source": [
    "b"
   ]
  },
  {
   "cell_type": "code",
   "execution_count": 40,
   "id": "be982ec4-684e-426a-861f-d29f5009485b",
   "metadata": {},
   "outputs": [
    {
     "data": {
      "text/plain": [
       "array([1, 2, 3])"
      ]
     },
     "execution_count": 40,
     "metadata": {},
     "output_type": "execute_result"
    }
   ],
   "source": [
    "b[0]"
   ]
  },
  {
   "cell_type": "code",
   "execution_count": 42,
   "id": "0a4b9fae-c004-4d71-8eff-08ae1b33627b",
   "metadata": {},
   "outputs": [
    {
     "data": {
      "text/plain": [
       "np.int64(4)"
      ]
     },
     "execution_count": 42,
     "metadata": {},
     "output_type": "execute_result"
    }
   ],
   "source": [
    "b[1, 0]"
   ]
  },
  {
   "cell_type": "code",
   "execution_count": 41,
   "id": "fa85c24b-39f4-4c00-819c-7fa1c695bc70",
   "metadata": {},
   "outputs": [
    {
     "data": {
      "text/plain": [
       "array([3, 6])"
      ]
     },
     "execution_count": 41,
     "metadata": {},
     "output_type": "execute_result"
    }
   ],
   "source": [
    "b[:, 2]"
   ]
  },
  {
   "cell_type": "code",
   "execution_count": 43,
   "id": "1f993722-65ff-47e9-90b1-154b1a20da77",
   "metadata": {},
   "outputs": [
    {
     "data": {
      "text/plain": [
       "array([4, 5, 6])"
      ]
     },
     "execution_count": 43,
     "metadata": {},
     "output_type": "execute_result"
    }
   ],
   "source": [
    "b[1, :]"
   ]
  },
  {
   "cell_type": "code",
   "execution_count": 44,
   "id": "f68142a0-5d0c-45d0-be20-1b3a43fceb95",
   "metadata": {},
   "outputs": [
    {
     "data": {
      "text/plain": [
       "array([2, 3])"
      ]
     },
     "execution_count": 44,
     "metadata": {},
     "output_type": "execute_result"
    }
   ],
   "source": [
    "b[0, 1:]"
   ]
  },
  {
   "cell_type": "code",
   "execution_count": 45,
   "id": "7518c588-b4f3-48e4-a3c5-a19b67ced0be",
   "metadata": {},
   "outputs": [
    {
     "data": {
      "text/plain": [
       "array([[1, 3],\n",
       "       [4, 6]])"
      ]
     },
     "execution_count": 45,
     "metadata": {},
     "output_type": "execute_result"
    }
   ],
   "source": [
    "b[:, [0, 2]]"
   ]
  },
  {
   "cell_type": "markdown",
   "id": "9af328f4-31db-42f4-a11c-dcb962852487",
   "metadata": {},
   "source": [
    "## データ再代入"
   ]
  },
  {
   "cell_type": "code",
   "execution_count": 46,
   "id": "41ce7639-2be7-401a-a4a5-a4f1961b792d",
   "metadata": {},
   "outputs": [
    {
     "data": {
      "text/plain": [
       "array([1, 2, 3])"
      ]
     },
     "execution_count": 46,
     "metadata": {},
     "output_type": "execute_result"
    }
   ],
   "source": [
    "a"
   ]
  },
  {
   "cell_type": "code",
   "execution_count": 47,
   "id": "bfeabf6f-5563-4ab4-961e-7d81c873d38c",
   "metadata": {},
   "outputs": [],
   "source": [
    "a[2] = 4"
   ]
  },
  {
   "cell_type": "code",
   "execution_count": 48,
   "id": "81307654-c4f7-4044-9b7c-67f933596f8f",
   "metadata": {},
   "outputs": [
    {
     "data": {
      "text/plain": [
       "array([1, 2, 4])"
      ]
     },
     "execution_count": 48,
     "metadata": {},
     "output_type": "execute_result"
    }
   ],
   "source": [
    "a"
   ]
  },
  {
   "cell_type": "code",
   "execution_count": 49,
   "id": "d875b2de-6051-4404-98ba-8ebbd4ae9556",
   "metadata": {},
   "outputs": [
    {
     "data": {
      "text/plain": [
       "array([[1, 2, 3],\n",
       "       [4, 5, 6]])"
      ]
     },
     "execution_count": 49,
     "metadata": {},
     "output_type": "execute_result"
    }
   ],
   "source": [
    "b"
   ]
  },
  {
   "cell_type": "code",
   "execution_count": 50,
   "id": "53742026-63e1-4228-a0a5-a942d3a8decb",
   "metadata": {},
   "outputs": [],
   "source": [
    "b[1, 2] = 7"
   ]
  },
  {
   "cell_type": "code",
   "execution_count": 51,
   "id": "04b7fb9b-3f69-4803-a6e0-6708066217d3",
   "metadata": {},
   "outputs": [
    {
     "data": {
      "text/plain": [
       "array([[1, 2, 3],\n",
       "       [4, 5, 7]])"
      ]
     },
     "execution_count": 51,
     "metadata": {},
     "output_type": "execute_result"
    }
   ],
   "source": [
    "b"
   ]
  },
  {
   "cell_type": "code",
   "execution_count": 52,
   "id": "2db9b83b-8e02-42f9-885b-57e3de4abbe2",
   "metadata": {},
   "outputs": [
    {
     "data": {
      "text/plain": [
       "array([[1, 2, 8],\n",
       "       [4, 5, 8]])"
      ]
     },
     "execution_count": 52,
     "metadata": {},
     "output_type": "execute_result"
    }
   ],
   "source": [
    "b[:, 2] = 8; b"
   ]
  },
  {
   "cell_type": "markdown",
   "id": "85cadd0c-92ff-41a3-b7d3-00b62af39f55",
   "metadata": {},
   "source": [
    "## 参照とコピー(copy)"
   ]
  },
  {
   "cell_type": "markdown",
   "id": "db44962a-c008-417c-998c-1d5dd203f680",
   "metadata": {},
   "source": [
    "### 参照"
   ]
  },
  {
   "cell_type": "code",
   "execution_count": 53,
   "id": "ab143d49-6a33-48be-a50e-528d87a68e57",
   "metadata": {},
   "outputs": [
    {
     "data": {
      "text/plain": [
       "array([1, 2, 4])"
      ]
     },
     "execution_count": 53,
     "metadata": {},
     "output_type": "execute_result"
    }
   ],
   "source": [
    "a1 = a; a1"
   ]
  },
  {
   "cell_type": "code",
   "execution_count": 54,
   "id": "48edd58e-88dc-4542-969f-f4e2e05cd457",
   "metadata": {},
   "outputs": [
    {
     "data": {
      "text/plain": [
       "array([1, 5, 4])"
      ]
     },
     "execution_count": 54,
     "metadata": {},
     "output_type": "execute_result"
    }
   ],
   "source": [
    "a1[1] = 5; a1"
   ]
  },
  {
   "cell_type": "code",
   "execution_count": 55,
   "id": "1e2cd61c-848f-4c36-9fc8-856372604c75",
   "metadata": {},
   "outputs": [
    {
     "data": {
      "text/plain": [
       "array([1, 5, 4])"
      ]
     },
     "execution_count": 55,
     "metadata": {},
     "output_type": "execute_result"
    }
   ],
   "source": [
    "a"
   ]
  },
  {
   "cell_type": "markdown",
   "id": "1283de4b-6071-4fa3-aaff-08c855fd3699",
   "metadata": {},
   "source": [
    "### コピー"
   ]
  },
  {
   "cell_type": "code",
   "execution_count": 57,
   "id": "9c37466d-f3b3-4485-beda-b98a90cf8b5c",
   "metadata": {},
   "outputs": [
    {
     "data": {
      "text/plain": [
       "array([1, 5, 4])"
      ]
     },
     "execution_count": 57,
     "metadata": {},
     "output_type": "execute_result"
    }
   ],
   "source": [
    "a2 = a.copy(); a2"
   ]
  },
  {
   "cell_type": "code",
   "execution_count": 58,
   "id": "78f237d0-5731-4f61-888a-3108fa71e9ad",
   "metadata": {},
   "outputs": [
    {
     "data": {
      "text/plain": [
       "array([6, 5, 4])"
      ]
     },
     "execution_count": 58,
     "metadata": {},
     "output_type": "execute_result"
    }
   ],
   "source": [
    "a2[0] = 6; a2"
   ]
  },
  {
   "cell_type": "code",
   "execution_count": 59,
   "id": "30ece281-277d-4178-9053-e45f4d52eb22",
   "metadata": {},
   "outputs": [
    {
     "data": {
      "text/plain": [
       "array([1, 5, 4])"
      ]
     },
     "execution_count": 59,
     "metadata": {},
     "output_type": "execute_result"
    }
   ],
   "source": [
    "a"
   ]
  },
  {
   "cell_type": "code",
   "execution_count": 60,
   "id": "65b6f598-a156-482b-b202-f25903966132",
   "metadata": {},
   "outputs": [
    {
     "data": {
      "text/plain": [
       "array([[0, 1, 2],\n",
       "       [3, 4, 6]])"
      ]
     },
     "execution_count": 60,
     "metadata": {},
     "output_type": "execute_result"
    }
   ],
   "source": [
    "c2"
   ]
  },
  {
   "cell_type": "markdown",
   "id": "33157d35-8293-4dfa-8835-a6bbadc4b6b1",
   "metadata": {},
   "source": [
    "### ravelとflattenの違い"
   ]
  },
  {
   "cell_type": "code",
   "execution_count": 66,
   "id": "520eedb9-cd81-4fb9-b9a0-379574f81659",
   "metadata": {},
   "outputs": [],
   "source": [
    "c3 = c2.ravel() # reference\n",
    "c4 = c2.flatten() # copy\n",
    "c3[0] = 6\n",
    "c4[1] = 7"
   ]
  },
  {
   "cell_type": "code",
   "execution_count": 67,
   "id": "62f63581-84f9-4336-8e03-5e1d44ff31f6",
   "metadata": {},
   "outputs": [
    {
     "data": {
      "text/plain": [
       "array([6, 1, 2, 3, 4, 6])"
      ]
     },
     "execution_count": 67,
     "metadata": {},
     "output_type": "execute_result"
    }
   ],
   "source": [
    "c3"
   ]
  },
  {
   "cell_type": "code",
   "execution_count": 68,
   "id": "6e665c70-7c60-461c-94d7-e1738f4a57dd",
   "metadata": {},
   "outputs": [
    {
     "data": {
      "text/plain": [
       "array([6, 7, 2, 3, 4, 6])"
      ]
     },
     "execution_count": 68,
     "metadata": {},
     "output_type": "execute_result"
    }
   ],
   "source": [
    "c4"
   ]
  },
  {
   "cell_type": "code",
   "execution_count": 69,
   "id": "ad299c8d-ffc0-4a6f-aa3f-d5c565b2327a",
   "metadata": {},
   "outputs": [
    {
     "data": {
      "text/plain": [
       "array([[6, 1, 2],\n",
       "       [3, 4, 6]])"
      ]
     },
     "execution_count": 69,
     "metadata": {},
     "output_type": "execute_result"
    }
   ],
   "source": [
    "c2"
   ]
  },
  {
   "cell_type": "markdown",
   "id": "2804faa4-b121-4649-8c6d-d45584ebd162",
   "metadata": {},
   "source": [
    "### Python標準とNumPyの違い"
   ]
  },
  {
   "cell_type": "code",
   "execution_count": 73,
   "id": "e3ef680a-f045-4fb3-bd7f-45474fa5a890",
   "metadata": {},
   "outputs": [
    {
     "name": "stdout",
     "output_type": "stream",
     "text": [
      "[0, 1]\n",
      "[2, 1]\n",
      "[0, 1]\n"
     ]
    }
   ],
   "source": [
    "# python list\n",
    "py_list1 = [0, 1]\n",
    "py_list2 = py_list1[:] # copyが渡される\n",
    "py_list2[0] = 2\n",
    "\n",
    "print(py_list1)\n",
    "print(py_list2)\n",
    "print(py_list1)"
   ]
  },
  {
   "cell_type": "code",
   "execution_count": 74,
   "id": "0b82a022-8471-464f-927e-56689ad9bf4a",
   "metadata": {},
   "outputs": [
    {
     "name": "stdout",
     "output_type": "stream",
     "text": [
      "[2 1]\n",
      "[2 1]\n",
      "[2 1]\n"
     ]
    }
   ],
   "source": [
    "# NumPyのlist(ndarray)\n",
    "np_array1 = np.array([0, 1])\n",
    "np_array2 = np_array1[:] # 参照が渡される\n",
    "np_array2[0] = 2\n",
    "\n",
    "print(np_array1)\n",
    "print(np_array2)\n",
    "print(np_array1)"
   ]
  },
  {
   "cell_type": "markdown",
   "id": "0f89cf35-eb0c-41f7-a838-567ed577d2df",
   "metadata": {},
   "source": [
    "## 数列を返す(arange)"
   ]
  },
  {
   "cell_type": "code",
   "execution_count": 75,
   "id": "726faa75-e8bb-4d6e-b2fb-a0685be9c5f2",
   "metadata": {},
   "outputs": [
    {
     "data": {
      "text/plain": [
       "array([0, 1, 2, 3, 4, 5, 6, 7, 8, 9])"
      ]
     },
     "execution_count": 75,
     "metadata": {},
     "output_type": "execute_result"
    }
   ],
   "source": [
    "np.arange(10)"
   ]
  },
  {
   "cell_type": "code",
   "execution_count": 76,
   "id": "59c778e1-4aed-4116-bfde-3fdee41a9084",
   "metadata": {},
   "outputs": [
    {
     "data": {
      "text/plain": [
       "array([ 1,  2,  3,  4,  5,  6,  7,  8,  9, 10])"
      ]
     },
     "execution_count": 76,
     "metadata": {},
     "output_type": "execute_result"
    }
   ],
   "source": [
    "np.arange(1, 11)"
   ]
  },
  {
   "cell_type": "code",
   "execution_count": 77,
   "id": "dedf3cd8-7752-4a61-8a79-99f0eaeec560",
   "metadata": {},
   "outputs": [
    {
     "data": {
      "text/plain": [
       "array([1, 3, 5, 7, 9])"
      ]
     },
     "execution_count": 77,
     "metadata": {},
     "output_type": "execute_result"
    }
   ],
   "source": [
    "np.arange(1, 11, 2)"
   ]
  },
  {
   "cell_type": "markdown",
   "id": "943cc84e-9078-4cc3-b375-ba5f2b7b77df",
   "metadata": {},
   "source": [
    "## 乱数"
   ]
  },
  {
   "cell_type": "code",
   "execution_count": 78,
   "id": "ed95756b-2733-4f6d-8ef5-6095c810287f",
   "metadata": {},
   "outputs": [
    {
     "data": {
      "text/plain": [
       "array([[0.35705231, 0.66430263],\n",
       "       [0.21499038, 0.97099979],\n",
       "       [0.74212465, 0.2260753 ]])"
      ]
     },
     "execution_count": 78,
     "metadata": {},
     "output_type": "execute_result"
    }
   ],
   "source": [
    "# 最新のRandomGenerator\n",
    "rng = np.random.default_rng()\n",
    "f = rng.random((3, 2))\n",
    "f"
   ]
  },
  {
   "cell_type": "code",
   "execution_count": 79,
   "id": "79e699c9-a6fc-4816-8911-54365001e302",
   "metadata": {},
   "outputs": [
    {
     "data": {
      "text/plain": [
       "array([[0.68235186, 0.05382102],\n",
       "       [0.22035987, 0.18437181],\n",
       "       [0.1759059 , 0.81209451]])"
      ]
     },
     "execution_count": 79,
     "metadata": {},
     "output_type": "execute_result"
    }
   ],
   "source": [
    "rng = np.random.default_rng(123) # シード値:123\n",
    "f = rng.random((3, 2))\n",
    "f"
   ]
  },
  {
   "cell_type": "markdown",
   "id": "2533fadb-32ea-406d-bc6d-42e08e1d6b4d",
   "metadata": {},
   "source": [
    "**シード値とは？**"
   ]
  },
  {
   "cell_type": "code",
   "execution_count": 80,
   "id": "c75fb92f-954f-4057-a306-fb433158990e",
   "metadata": {},
   "outputs": [
    {
     "data": {
      "text/plain": [
       "np.int64(1)"
      ]
     },
     "execution_count": 80,
     "metadata": {},
     "output_type": "execute_result"
    }
   ],
   "source": [
    "rng = np.random.default_rng(123)\n",
    "rng.integers(1, 10)"
   ]
  },
  {
   "cell_type": "markdown",
   "id": "1132a502-c2a7-4ac6-839e-212030fa4e0f",
   "metadata": {},
   "source": [
    "### integersから２次元配列を作成できる"
   ]
  },
  {
   "cell_type": "code",
   "execution_count": 84,
   "id": "ef182c84-0ce8-44ff-a254-8349db1f6665",
   "metadata": {},
   "outputs": [
    {
     "data": {
      "text/plain": [
       "array([[1, 7, 6],\n",
       "       [1, 9, 2],\n",
       "       [3, 2, 4]])"
      ]
     },
     "execution_count": 84,
     "metadata": {},
     "output_type": "execute_result"
    }
   ],
   "source": [
    "rng = np.random.default_rng(123)\n",
    "rng.integers(1, 10, size=(3, 3))"
   ]
  },
  {
   "cell_type": "code",
   "execution_count": 85,
   "id": "e54f9212-09eb-4673-8586-10cbe97517fe",
   "metadata": {},
   "outputs": [
    {
     "data": {
      "text/plain": [
       "array([[3.41175932, 0.26910509, 1.10179936],\n",
       "       [0.92185905, 0.87952951, 4.06047253]])"
      ]
     },
     "execution_count": 85,
     "metadata": {},
     "output_type": "execute_result"
    }
   ],
   "source": [
    "rng = np.random.default_rng(123)\n",
    "rng.uniform(0.0, 5.0, size=(2, 3))"
   ]
  },
  {
   "cell_type": "code",
   "execution_count": 87,
   "id": "61faf706-fb3c-49b7-aade-1ff1df531a5e",
   "metadata": {},
   "outputs": [
    {
     "data": {
      "text/plain": [
       "array([[0.68235186, 0.05382102, 0.22035987],\n",
       "       [0.18437181, 0.1759059 , 0.81209451],\n",
       "       [0.923345  , 0.2765744 , 0.81975456],\n",
       "       [0.88989269, 0.51297046, 0.2449646 ]])"
      ]
     },
     "execution_count": 87,
     "metadata": {},
     "output_type": "execute_result"
    }
   ],
   "source": [
    "rng = np.random.default_rng(123)\n",
    "rng.uniform(size=(4, 3))"
   ]
  },
  {
   "cell_type": "code",
   "execution_count": 88,
   "id": "bf93ecb0-712b-4576-be6a-a763a40b6aef",
   "metadata": {},
   "outputs": [
    {
     "data": {
      "text/plain": [
       "array([[-0.98912135, -0.36778665],\n",
       "       [ 1.28792526,  0.19397442],\n",
       "       [ 0.9202309 ,  0.57710379],\n",
       "       [-0.63646365,  0.54195222]])"
      ]
     },
     "execution_count": 88,
     "metadata": {},
     "output_type": "execute_result"
    }
   ],
   "source": [
    "rng = np.random.default_rng(123)\n",
    "rng.standard_normal(size=(4, 2))"
   ]
  },
  {
   "cell_type": "code",
   "execution_count": 89,
   "id": "a19daa2b-ae48-45f4-81eb-145318b7222e",
   "metadata": {},
   "outputs": [
    {
     "data": {
      "text/plain": [
       "array([40.1087865 , 46.32213349, 62.87925261])"
      ]
     },
     "execution_count": 89,
     "metadata": {},
     "output_type": "execute_result"
    }
   ],
   "source": [
    "rng = np.random.default_rng(123)\n",
    "rng.normal(50, 10, 3)"
   ]
  },
  {
   "cell_type": "markdown",
   "id": "75d82263-6116-43d1-870f-8f316da66be9",
   "metadata": {},
   "source": [
    "## 同じ要素の数列を作る"
   ]
  },
  {
   "cell_type": "code",
   "execution_count": 90,
   "id": "858bb0e6-65a3-44be-935b-e826c2a4b4a4",
   "metadata": {},
   "outputs": [
    {
     "data": {
      "text/plain": [
       "array([0., 0., 0.])"
      ]
     },
     "execution_count": 90,
     "metadata": {},
     "output_type": "execute_result"
    }
   ],
   "source": [
    "np.zeros(3)"
   ]
  },
  {
   "cell_type": "code",
   "execution_count": 91,
   "id": "4e3c5f36-4a6f-4cf8-82ae-dc2b916c6353",
   "metadata": {},
   "outputs": [
    {
     "data": {
      "text/plain": [
       "array([[0., 0., 0.],\n",
       "       [0., 0., 0.]])"
      ]
     },
     "execution_count": 91,
     "metadata": {},
     "output_type": "execute_result"
    }
   ],
   "source": [
    "np.zeros((2, 3))"
   ]
  },
  {
   "cell_type": "code",
   "execution_count": 92,
   "id": "4ddde3fd-91ca-43fd-9519-85b183373307",
   "metadata": {},
   "outputs": [
    {
     "data": {
      "text/plain": [
       "array([1., 1.])"
      ]
     },
     "execution_count": 92,
     "metadata": {},
     "output_type": "execute_result"
    }
   ],
   "source": [
    "np.ones(2)"
   ]
  },
  {
   "cell_type": "code",
   "execution_count": 93,
   "id": "48d1a9bf-024b-46d1-8015-0ab978f64930",
   "metadata": {},
   "outputs": [
    {
     "data": {
      "text/plain": [
       "array([[1., 1., 1., 1.],\n",
       "       [1., 1., 1., 1.],\n",
       "       [1., 1., 1., 1.]])"
      ]
     },
     "execution_count": 93,
     "metadata": {},
     "output_type": "execute_result"
    }
   ],
   "source": [
    "np.ones((3, 4))"
   ]
  },
  {
   "cell_type": "markdown",
   "id": "be0b2dbd-71f7-412c-8cb2-b9914d7f90fa",
   "metadata": {},
   "source": [
    "## 単位行列"
   ]
  },
  {
   "cell_type": "code",
   "execution_count": 94,
   "id": "b78281a4-4db2-4d15-b524-88877f48a8ec",
   "metadata": {},
   "outputs": [
    {
     "data": {
      "text/plain": [
       "array([[1., 0., 0.],\n",
       "       [0., 1., 0.],\n",
       "       [0., 0., 1.]])"
      ]
     },
     "execution_count": 94,
     "metadata": {},
     "output_type": "execute_result"
    }
   ],
   "source": [
    "np.eye(3)"
   ]
  },
  {
   "cell_type": "markdown",
   "id": "bf915654-effb-47be-9fe5-522eb2693e28",
   "metadata": {},
   "source": [
    "## 指定値で埋める"
   ]
  },
  {
   "cell_type": "code",
   "execution_count": 95,
   "id": "78d32504-fda3-4464-85e1-8b33f5139475",
   "metadata": {},
   "outputs": [
    {
     "data": {
      "text/plain": [
       "array([3.14, 3.14, 3.14])"
      ]
     },
     "execution_count": 95,
     "metadata": {},
     "output_type": "execute_result"
    }
   ],
   "source": [
    "np.full(3, 3.14)"
   ]
  },
  {
   "cell_type": "code",
   "execution_count": 96,
   "id": "f9dd2f71-fbe5-4b82-8a3e-5c23ef2cbb8e",
   "metadata": {},
   "outputs": [
    {
     "data": {
      "text/plain": [
       "array([[3.14159265, 3.14159265, 3.14159265, 3.14159265],\n",
       "       [3.14159265, 3.14159265, 3.14159265, 3.14159265]])"
      ]
     },
     "execution_count": 96,
     "metadata": {},
     "output_type": "execute_result"
    }
   ],
   "source": [
    "np.full((2, 4), np.pi)"
   ]
  },
  {
   "cell_type": "code",
   "execution_count": 97,
   "id": "487d33dd-ffba-481e-8e50-9bda79c905c1",
   "metadata": {},
   "outputs": [
    {
     "data": {
      "text/plain": [
       "nan"
      ]
     },
     "execution_count": 97,
     "metadata": {},
     "output_type": "execute_result"
    }
   ],
   "source": [
    "np.nan"
   ]
  },
  {
   "cell_type": "code",
   "execution_count": 98,
   "id": "c815e232-d9b9-4535-a0d6-2ef1d0c215d7",
   "metadata": {},
   "outputs": [
    {
     "data": {
      "text/plain": [
       "array([ 1.,  2., nan])"
      ]
     },
     "execution_count": 98,
     "metadata": {},
     "output_type": "execute_result"
    }
   ],
   "source": [
    "np.array([1, 2, np.nan])"
   ]
  },
  {
   "cell_type": "markdown",
   "id": "af80bfc9-d695-40d6-acac-a9df184d77fa",
   "metadata": {},
   "source": [
    "## 範囲指定で均等割データを作る"
   ]
  },
  {
   "cell_type": "code",
   "execution_count": 99,
   "id": "c40b65cf-d63f-4ef2-a49c-9179b2f9c87d",
   "metadata": {},
   "outputs": [
    {
     "data": {
      "text/plain": [
       "array([0.  , 0.25, 0.5 , 0.75, 1.  ])"
      ]
     },
     "execution_count": 99,
     "metadata": {},
     "output_type": "execute_result"
    }
   ],
   "source": [
    "np.linspace(0, 1, 5)"
   ]
  },
  {
   "cell_type": "code",
   "execution_count": 100,
   "id": "d3eb7dfd-3593-4f91-99fc-b3fb49f1e34a",
   "metadata": {},
   "outputs": [
    {
     "data": {
      "text/plain": [
       "array([0.        , 0.15707963, 0.31415927, 0.4712389 , 0.62831853,\n",
       "       0.78539816, 0.9424778 , 1.09955743, 1.25663706, 1.41371669,\n",
       "       1.57079633, 1.72787596, 1.88495559, 2.04203522, 2.19911486,\n",
       "       2.35619449, 2.51327412, 2.67035376, 2.82743339, 2.98451302,\n",
       "       3.14159265])"
      ]
     },
     "execution_count": 100,
     "metadata": {},
     "output_type": "execute_result"
    }
   ],
   "source": [
    "np.linspace(0, np.pi, 21)"
   ]
  },
  {
   "cell_type": "markdown",
   "id": "109af231-906e-4a31-a719-9c7672f00a9e",
   "metadata": {},
   "source": [
    "## 要素間の差分"
   ]
  },
  {
   "cell_type": "code",
   "execution_count": 102,
   "id": "f0eefd62-3400-4828-a197-3761280cc128",
   "metadata": {},
   "outputs": [
    {
     "data": {
      "text/plain": [
       "array([ 0,  4, -5,  2])"
      ]
     },
     "execution_count": 102,
     "metadata": {},
     "output_type": "execute_result"
    }
   ],
   "source": [
    "l = np.array([2, 2, 6, 1, 3])\n",
    "np.diff(l)"
   ]
  },
  {
   "cell_type": "markdown",
   "id": "0ac3e5a9-ab2b-4783-a426-0c00295728d6",
   "metadata": {},
   "source": [
    "## 連結"
   ]
  },
  {
   "cell_type": "markdown",
   "id": "92489f08-cfbf-4383-a9d4-49bdd2a142b3",
   "metadata": {},
   "source": [
    "### 一次元配列の場合"
   ]
  },
  {
   "cell_type": "code",
   "execution_count": 103,
   "id": "e9c8a420-4bfe-403b-aea9-620d2c685148",
   "metadata": {},
   "outputs": [
    {
     "name": "stdout",
     "output_type": "stream",
     "text": [
      "[1 5 4]\n",
      "[1 5 4]\n"
     ]
    }
   ],
   "source": [
    "print(a)\n",
    "print(a1)"
   ]
  },
  {
   "cell_type": "code",
   "execution_count": 104,
   "id": "27656df3-1b31-4c45-b749-b9408691036e",
   "metadata": {},
   "outputs": [
    {
     "data": {
      "text/plain": [
       "array([1, 5, 4, 1, 5, 4])"
      ]
     },
     "execution_count": 104,
     "metadata": {},
     "output_type": "execute_result"
    }
   ],
   "source": [
    "np.concatenate([a, a1])"
   ]
  },
  {
   "cell_type": "markdown",
   "id": "2e596403-ae2c-4807-a4e7-29a68ffb35ed",
   "metadata": {},
   "source": [
    "### 二次元配列の場合"
   ]
  },
  {
   "cell_type": "code",
   "execution_count": 105,
   "id": "ac5be4ab-9f12-46b2-97f9-9b5f6ccb34c4",
   "metadata": {},
   "outputs": [
    {
     "data": {
      "text/plain": [
       "array([[1, 2, 8],\n",
       "       [4, 5, 8]])"
      ]
     },
     "execution_count": 105,
     "metadata": {},
     "output_type": "execute_result"
    }
   ],
   "source": [
    "b"
   ]
  },
  {
   "cell_type": "code",
   "execution_count": 106,
   "id": "53f9ace9-4011-4c33-a3ef-777ce22a70c3",
   "metadata": {},
   "outputs": [
    {
     "data": {
      "text/plain": [
       "array([[10],\n",
       "       [20]])"
      ]
     },
     "execution_count": 106,
     "metadata": {},
     "output_type": "execute_result"
    }
   ],
   "source": [
    "b1 = np.array([[10], [20]])\n",
    "b1"
   ]
  },
  {
   "cell_type": "code",
   "execution_count": 108,
   "id": "be9c43c7-1ee9-4eec-b5de-c0c6a456e03b",
   "metadata": {},
   "outputs": [
    {
     "data": {
      "text/plain": [
       "array([[1, 2, 8],\n",
       "       [4, 5, 8]])"
      ]
     },
     "execution_count": 108,
     "metadata": {},
     "output_type": "execute_result"
    }
   ],
   "source": [
    "b"
   ]
  },
  {
   "cell_type": "code",
   "execution_count": 109,
   "id": "ef58ad4e-2ecc-430f-890c-d90711806aeb",
   "metadata": {},
   "outputs": [
    {
     "data": {
      "text/plain": [
       "array([[10],\n",
       "       [20]])"
      ]
     },
     "execution_count": 109,
     "metadata": {},
     "output_type": "execute_result"
    }
   ],
   "source": [
    "b1"
   ]
  },
  {
   "cell_type": "markdown",
   "id": "4171d18a-6e68-49ab-837c-ca7649b33f35",
   "metadata": {},
   "source": [
    "### カラム方向に追加する。"
   ]
  },
  {
   "cell_type": "code",
   "execution_count": 124,
   "id": "f6585f55-cc2f-4618-aaae-cedb83da74e4",
   "metadata": {},
   "outputs": [
    {
     "data": {
      "text/plain": [
       "array([[ 1,  2,  8, 10],\n",
       "       [ 4,  5,  8, 20]])"
      ]
     },
     "execution_count": 124,
     "metadata": {},
     "output_type": "execute_result"
    }
   ],
   "source": [
    "np.concatenate([b, b1], axis=1)"
   ]
  },
  {
   "cell_type": "code",
   "execution_count": 111,
   "id": "bf176a66-14ec-4f16-892d-c2afd6f72536",
   "metadata": {},
   "outputs": [
    {
     "data": {
      "text/plain": [
       "array([[ 1,  2,  8, 10],\n",
       "       [ 4,  5,  8, 20]])"
      ]
     },
     "execution_count": 111,
     "metadata": {},
     "output_type": "execute_result"
    }
   ],
   "source": [
    "np.hstack([b, b1])"
   ]
  },
  {
   "cell_type": "markdown",
   "id": "07fdc0f2-5d19-419d-b061-98f052a9ff17",
   "metadata": {},
   "source": [
    "### 行方向に追加する"
   ]
  },
  {
   "cell_type": "code",
   "execution_count": 127,
   "id": "950f0e23-2845-48bf-81cc-9b17f3cfbda6",
   "metadata": {},
   "outputs": [
    {
     "data": {
      "text/plain": [
       "array([[1, 2, 8],\n",
       "       [4, 5, 8]])"
      ]
     },
     "execution_count": 127,
     "metadata": {},
     "output_type": "execute_result"
    }
   ],
   "source": [
    "b"
   ]
  },
  {
   "cell_type": "code",
   "execution_count": 128,
   "id": "df3f1318-e5d1-4407-ae46-671c2a1730f6",
   "metadata": {},
   "outputs": [],
   "source": [
    "b2 = np.array([30, 60, 45])"
   ]
  },
  {
   "cell_type": "code",
   "execution_count": 129,
   "id": "ff569230-75a1-443a-be91-ebfb1d951f5d",
   "metadata": {},
   "outputs": [
    {
     "data": {
      "text/plain": [
       "array([30, 60, 45])"
      ]
     },
     "execution_count": 129,
     "metadata": {},
     "output_type": "execute_result"
    }
   ],
   "source": [
    "b2"
   ]
  },
  {
   "cell_type": "code",
   "execution_count": 137,
   "id": "553cf6cb-414a-4090-acf4-f05dd2b4e399",
   "metadata": {},
   "outputs": [
    {
     "name": "stdout",
     "output_type": "stream",
     "text": [
      "(2, 3)\n",
      "(3,)\n"
     ]
    }
   ],
   "source": [
    "print(b.shape)\n",
    "print(b2.shape)"
   ]
  },
  {
   "cell_type": "code",
   "execution_count": 134,
   "id": "6eae3669-58eb-48a2-adcf-9396927c58b5",
   "metadata": {},
   "outputs": [
    {
     "ename": "ValueError",
     "evalue": "all the input arrays must have same number of dimensions, but the array at index 0 has 2 dimension(s) and the array at index 1 has 1 dimension(s)",
     "output_type": "error",
     "traceback": [
      "\u001b[31m---------------------------------------------------------------------------\u001b[39m",
      "\u001b[31mValueError\u001b[39m                                Traceback (most recent call last)",
      "\u001b[36mCell\u001b[39m\u001b[36m \u001b[39m\u001b[32mIn[134]\u001b[39m\u001b[32m, line 1\u001b[39m\n\u001b[32m----> \u001b[39m\u001b[32m1\u001b[39m \u001b[43mnp\u001b[49m\u001b[43m.\u001b[49m\u001b[43mconcatenate\u001b[49m\u001b[43m(\u001b[49m\u001b[43m[\u001b[49m\u001b[43mb\u001b[49m\u001b[43m,\u001b[49m\u001b[43m \u001b[49m\u001b[43mb2\u001b[49m\u001b[43m]\u001b[49m\u001b[43m,\u001b[49m\u001b[43m \u001b[49m\u001b[43maxis\u001b[49m\u001b[43m=\u001b[49m\u001b[32;43m0\u001b[39;49m\u001b[43m)\u001b[49m\n",
      "\u001b[31mValueError\u001b[39m: all the input arrays must have same number of dimensions, but the array at index 0 has 2 dimension(s) and the array at index 1 has 1 dimension(s)"
     ]
    }
   ],
   "source": [
    "np.concatenate([b, b2], axis=0)"
   ]
  },
  {
   "cell_type": "code",
   "execution_count": 131,
   "id": "2cc97f37-6f56-41d6-a80a-50191f7d12bb",
   "metadata": {},
   "outputs": [],
   "source": [
    "b3 = np.vstack([b, b2])"
   ]
  },
  {
   "cell_type": "code",
   "execution_count": 138,
   "id": "f6184c13-a16e-4634-afc3-d8bccd426ac4",
   "metadata": {},
   "outputs": [
    {
     "data": {
      "text/plain": [
       "array([[ 1,  2,  8],\n",
       "       [ 4,  5,  8],\n",
       "       [30, 60, 45]])"
      ]
     },
     "execution_count": 138,
     "metadata": {},
     "output_type": "execute_result"
    }
   ],
   "source": [
    "b3"
   ]
  },
  {
   "cell_type": "markdown",
   "id": "294ff94d-f18a-400b-b4bb-f97d76a8f203",
   "metadata": {},
   "source": [
    "## 分割\n",
    "\n",
    "２次元配列の分割方法"
   ]
  },
  {
   "cell_type": "code",
   "execution_count": 122,
   "id": "29eeb912-ed22-481b-b19a-718e64860abb",
   "metadata": {},
   "outputs": [],
   "source": [
    "first, second = np.hsplit(b3, [2])"
   ]
  },
  {
   "cell_type": "code",
   "execution_count": 139,
   "id": "92ee1e5a-5164-4891-ab3a-7c3da02fb5b8",
   "metadata": {},
   "outputs": [
    {
     "data": {
      "text/plain": [
       "array([[ 1,  2],\n",
       "       [ 4,  5],\n",
       "       [30, 60]])"
      ]
     },
     "execution_count": 139,
     "metadata": {},
     "output_type": "execute_result"
    }
   ],
   "source": [
    "first"
   ]
  },
  {
   "cell_type": "code",
   "execution_count": 140,
   "id": "9c3fc15d-df33-462a-9f45-5ae43c3d0535",
   "metadata": {},
   "outputs": [
    {
     "data": {
      "text/plain": [
       "array([[ 8],\n",
       "       [ 8],\n",
       "       [45]])"
      ]
     },
     "execution_count": 140,
     "metadata": {},
     "output_type": "execute_result"
    }
   ],
   "source": [
    "second"
   ]
  },
  {
   "cell_type": "code",
   "execution_count": 144,
   "id": "2101d573-19d9-4210-b1cb-656033dcdb58",
   "metadata": {},
   "outputs": [],
   "source": [
    "first1, second1 = np.vsplit(b3, [2])"
   ]
  },
  {
   "cell_type": "code",
   "execution_count": 145,
   "id": "55957743-5ae2-433d-a87a-0a1130f693e3",
   "metadata": {},
   "outputs": [
    {
     "data": {
      "text/plain": [
       "array([[1, 2, 8],\n",
       "       [4, 5, 8]])"
      ]
     },
     "execution_count": 145,
     "metadata": {},
     "output_type": "execute_result"
    }
   ],
   "source": [
    "first1"
   ]
  },
  {
   "cell_type": "code",
   "execution_count": 146,
   "id": "0f25eb28-4539-4c33-9041-cc63bb34382d",
   "metadata": {},
   "outputs": [
    {
     "data": {
      "text/plain": [
       "array([[30, 60, 45]])"
      ]
     },
     "execution_count": 146,
     "metadata": {},
     "output_type": "execute_result"
    }
   ],
   "source": [
    "second1"
   ]
  },
  {
   "cell_type": "markdown",
   "id": "e57bf275-1c83-4fd9-ab20-61ad244f868e",
   "metadata": {},
   "source": [
    "## 転置\n",
    "\n",
    "二次元配列の転置方法。\n",
    "転置とは、行と列を入れ替えること。"
   ]
  },
  {
   "cell_type": "code",
   "execution_count": 147,
   "id": "b3eec1da-d371-454e-a700-506c62d8464f",
   "metadata": {},
   "outputs": [
    {
     "data": {
      "text/plain": [
       "array([[1, 2, 8],\n",
       "       [4, 5, 8]])"
      ]
     },
     "execution_count": 147,
     "metadata": {},
     "output_type": "execute_result"
    }
   ],
   "source": [
    "b"
   ]
  },
  {
   "cell_type": "code",
   "execution_count": 148,
   "id": "073b718c-7b07-4e46-9973-fcabcd13216f",
   "metadata": {},
   "outputs": [
    {
     "data": {
      "text/plain": [
       "array([[1, 4],\n",
       "       [2, 5],\n",
       "       [8, 8]])"
      ]
     },
     "execution_count": 148,
     "metadata": {},
     "output_type": "execute_result"
    }
   ],
   "source": [
    "b.T"
   ]
  },
  {
   "cell_type": "markdown",
   "id": "70e891ff-2d5a-49c5-836a-24738d15c6fb",
   "metadata": {},
   "source": [
    "## 次元追加"
   ]
  },
  {
   "cell_type": "code",
   "execution_count": 149,
   "id": "853235b9-b3a5-45b5-ba79-f9b04114c106",
   "metadata": {},
   "outputs": [
    {
     "data": {
      "text/plain": [
       "array([1, 5, 4])"
      ]
     },
     "execution_count": 149,
     "metadata": {},
     "output_type": "execute_result"
    }
   ],
   "source": [
    "a"
   ]
  },
  {
   "cell_type": "code",
   "execution_count": 152,
   "id": "df11981a-3408-46fd-8eb6-aeb2da36754a",
   "metadata": {},
   "outputs": [
    {
     "data": {
      "text/plain": [
       "array([[1, 5, 4]])"
      ]
     },
     "execution_count": 152,
     "metadata": {},
     "output_type": "execute_result"
    }
   ],
   "source": [
    "# 行方向に次元を追加する\n",
    "a[np.newaxis, :]"
   ]
  },
  {
   "cell_type": "code",
   "execution_count": 153,
   "id": "5e704fcb-91ea-4f1e-bcdd-4ee96d1e765b",
   "metadata": {},
   "outputs": [
    {
     "data": {
      "text/plain": [
       "array([[1],\n",
       "       [5],\n",
       "       [4]])"
      ]
     },
     "execution_count": 153,
     "metadata": {},
     "output_type": "execute_result"
    }
   ],
   "source": [
    "# 列方向に次元を追加する\n",
    "a[:, np.newaxis]"
   ]
  },
  {
   "cell_type": "markdown",
   "id": "891fa0d5-7fb4-4c43-8315-48121db1cc76",
   "metadata": {},
   "source": [
    "## グリッドデータの生成\n",
    "\n",
    "meshgridは２次元上の点に対応する等高線やヒートマップなどを描くときに使用する。"
   ]
  },
  {
   "cell_type": "code",
   "execution_count": 155,
   "id": "a95c65d5-eda5-4542-8767-f6303810691b",
   "metadata": {},
   "outputs": [
    {
     "data": {
      "text/plain": [
       "array([0, 1, 2, 3])"
      ]
     },
     "execution_count": 155,
     "metadata": {},
     "output_type": "execute_result"
    }
   ],
   "source": [
    "m = np.arange(0, 4); m"
   ]
  },
  {
   "cell_type": "code",
   "execution_count": 167,
   "id": "635fb995-377b-4969-abfd-356a809bed9e",
   "metadata": {},
   "outputs": [
    {
     "data": {
      "text/plain": [
       "array([4, 5, 6])"
      ]
     },
     "execution_count": 167,
     "metadata": {},
     "output_type": "execute_result"
    }
   ],
   "source": [
    "n = np.arange(4, 7); n"
   ]
  },
  {
   "cell_type": "code",
   "execution_count": 168,
   "id": "38d8f456-7b25-455c-a271-51138ea5cc7b",
   "metadata": {},
   "outputs": [],
   "source": [
    "# mとnを、それぞれ行方向と列方向に方眼常（グリッド）のデータを作成する。\n",
    "xx, yy = np.meshgrid(m, n)"
   ]
  },
  {
   "cell_type": "code",
   "execution_count": 169,
   "id": "12b74fcb-8e65-4373-aab4-2a5c593d0821",
   "metadata": {},
   "outputs": [
    {
     "data": {
      "text/plain": [
       "array([[0, 1, 2, 3],\n",
       "       [0, 1, 2, 3],\n",
       "       [0, 1, 2, 3]])"
      ]
     },
     "execution_count": 169,
     "metadata": {},
     "output_type": "execute_result"
    }
   ],
   "source": [
    "# 行方向\n",
    "xx"
   ]
  },
  {
   "cell_type": "code",
   "execution_count": 170,
   "id": "624fbbee-81e0-4827-9479-e15f664443a6",
   "metadata": {},
   "outputs": [
    {
     "data": {
      "text/plain": [
       "array([[4, 4, 4, 4],\n",
       "       [5, 5, 5, 5],\n",
       "       [6, 6, 6, 6]])"
      ]
     },
     "execution_count": 170,
     "metadata": {},
     "output_type": "execute_result"
    }
   ],
   "source": [
    "# 列方向\n",
    "yy"
   ]
  }
 ],
 "metadata": {
  "kernelspec": {
   "display_name": "Python 3 (ipykernel)",
   "language": "python",
   "name": "python3"
  },
  "language_info": {
   "codemirror_mode": {
    "name": "ipython",
    "version": 3
   },
   "file_extension": ".py",
   "mimetype": "text/x-python",
   "name": "python",
   "nbconvert_exporter": "python",
   "pygments_lexer": "ipython3",
   "version": "3.12.11"
  }
 },
 "nbformat": 4,
 "nbformat_minor": 5
}
