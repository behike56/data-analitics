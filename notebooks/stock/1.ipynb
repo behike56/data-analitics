{
 "cells": [
  {
   "cell_type": "code",
   "execution_count": 5,
   "metadata": {},
   "outputs": [],
   "source": [
    "from datetime import datetime\n",
    "from pytz import timezone"
   ]
  },
  {
   "cell_type": "code",
   "execution_count": 6,
   "metadata": {},
   "outputs": [
    {
     "data": {
      "text/plain": [
       "'2025年06月26日 16:43:54'"
      ]
     },
     "execution_count": 6,
     "metadata": {},
     "output_type": "execute_result"
    }
   ],
   "source": [
    "# 日本のタイムゾーン\n",
    "tokyo = timezone('Asia/Tokyo')\n",
    "\n",
    "# 日本時間\n",
    "now = datetime.now(tokyo)\n",
    "\n",
    "# フォーマットを指定して現在の日時を表示\n",
    "now.strftime('%Y年%m月%d日 %H:%M:%S')"
   ]
  },
  {
   "cell_type": "code",
   "execution_count": 7,
   "metadata": {},
   "outputs": [
    {
     "data": {
      "text/plain": [
       "datetime.datetime(2025, 6, 26, 16, 43, 54, 660307, tzinfo=<DstTzInfo 'Asia/Tokyo' JST+9:00:00 STD>)"
      ]
     },
     "execution_count": 7,
     "metadata": {},
     "output_type": "execute_result"
    }
   ],
   "source": [
    "now"
   ]
  },
  {
   "cell_type": "code",
   "execution_count": 8,
   "metadata": {},
   "outputs": [
    {
     "data": {
      "text/html": [
       "<div>\n",
       "<style scoped>\n",
       "    .dataframe tbody tr th:only-of-type {\n",
       "        vertical-align: middle;\n",
       "    }\n",
       "\n",
       "    .dataframe tbody tr th {\n",
       "        vertical-align: top;\n",
       "    }\n",
       "\n",
       "    .dataframe thead th {\n",
       "        text-align: right;\n",
       "    }\n",
       "</style>\n",
       "<table border=\"1\" class=\"dataframe\">\n",
       "  <thead>\n",
       "    <tr style=\"text-align: right;\">\n",
       "      <th></th>\n",
       "      <th>Open</th>\n",
       "      <th>High</th>\n",
       "      <th>Low</th>\n",
       "      <th>Close</th>\n",
       "      <th>Volume</th>\n",
       "    </tr>\n",
       "    <tr>\n",
       "      <th>Date</th>\n",
       "      <th></th>\n",
       "      <th></th>\n",
       "      <th></th>\n",
       "      <th></th>\n",
       "      <th></th>\n",
       "    </tr>\n",
       "  </thead>\n",
       "  <tbody>\n",
       "    <tr>\n",
       "      <th>2025-06-25</th>\n",
       "      <td>219.600</td>\n",
       "      <td>219.900</td>\n",
       "      <td>216.700</td>\n",
       "      <td>216.700</td>\n",
       "      <td>55330400</td>\n",
       "    </tr>\n",
       "    <tr>\n",
       "      <th>2025-06-24</th>\n",
       "      <td>220.000</td>\n",
       "      <td>222.200</td>\n",
       "      <td>219.600</td>\n",
       "      <td>220.200</td>\n",
       "      <td>56345900</td>\n",
       "    </tr>\n",
       "    <tr>\n",
       "      <th>2025-06-23</th>\n",
       "      <td>217.500</td>\n",
       "      <td>218.700</td>\n",
       "      <td>216.200</td>\n",
       "      <td>217.700</td>\n",
       "      <td>51401200</td>\n",
       "    </tr>\n",
       "    <tr>\n",
       "      <th>2025-06-20</th>\n",
       "      <td>220.300</td>\n",
       "      <td>220.800</td>\n",
       "      <td>217.500</td>\n",
       "      <td>217.500</td>\n",
       "      <td>140423100</td>\n",
       "    </tr>\n",
       "    <tr>\n",
       "      <th>2025-06-19</th>\n",
       "      <td>217.600</td>\n",
       "      <td>220.300</td>\n",
       "      <td>217.100</td>\n",
       "      <td>220.000</td>\n",
       "      <td>41207400</td>\n",
       "    </tr>\n",
       "    <tr>\n",
       "      <th>...</th>\n",
       "      <td>...</td>\n",
       "      <td>...</td>\n",
       "      <td>...</td>\n",
       "      <td>...</td>\n",
       "      <td>...</td>\n",
       "    </tr>\n",
       "    <tr>\n",
       "      <th>2020-07-03</th>\n",
       "      <td>109.261</td>\n",
       "      <td>109.419</td>\n",
       "      <td>108.224</td>\n",
       "      <td>108.823</td>\n",
       "      <td>56377623</td>\n",
       "    </tr>\n",
       "    <tr>\n",
       "      <th>2020-07-02</th>\n",
       "      <td>109.141</td>\n",
       "      <td>109.460</td>\n",
       "      <td>108.502</td>\n",
       "      <td>109.062</td>\n",
       "      <td>92076163</td>\n",
       "    </tr>\n",
       "    <tr>\n",
       "      <th>2020-07-01</th>\n",
       "      <td>109.100</td>\n",
       "      <td>109.820</td>\n",
       "      <td>108.063</td>\n",
       "      <td>108.304</td>\n",
       "      <td>88561503</td>\n",
       "    </tr>\n",
       "    <tr>\n",
       "      <th>2020-06-30</th>\n",
       "      <td>110.298</td>\n",
       "      <td>110.577</td>\n",
       "      <td>109.141</td>\n",
       "      <td>109.619</td>\n",
       "      <td>78523019</td>\n",
       "    </tr>\n",
       "    <tr>\n",
       "      <th>2020-06-29</th>\n",
       "      <td>109.619</td>\n",
       "      <td>109.858</td>\n",
       "      <td>108.862</td>\n",
       "      <td>109.141</td>\n",
       "      <td>91454023</td>\n",
       "    </tr>\n",
       "  </tbody>\n",
       "</table>\n",
       "<p>1221 rows × 5 columns</p>\n",
       "</div>"
      ],
      "text/plain": [
       "               Open     High      Low    Close     Volume\n",
       "Date                                                     \n",
       "2025-06-25  219.600  219.900  216.700  216.700   55330400\n",
       "2025-06-24  220.000  222.200  219.600  220.200   56345900\n",
       "2025-06-23  217.500  218.700  216.200  217.700   51401200\n",
       "2025-06-20  220.300  220.800  217.500  217.500  140423100\n",
       "2025-06-19  217.600  220.300  217.100  220.000   41207400\n",
       "...             ...      ...      ...      ...        ...\n",
       "2020-07-03  109.261  109.419  108.224  108.823   56377623\n",
       "2020-07-02  109.141  109.460  108.502  109.062   92076163\n",
       "2020-07-01  109.100  109.820  108.063  108.304   88561503\n",
       "2020-06-30  110.298  110.577  109.141  109.619   78523019\n",
       "2020-06-29  109.619  109.858  108.862  109.141   91454023\n",
       "\n",
       "[1221 rows x 5 columns]"
      ]
     },
     "execution_count": 8,
     "metadata": {},
     "output_type": "execute_result"
    }
   ],
   "source": [
    "import pandas_datareader.data as pdr\n",
    "df = pdr.DataReader(\"9434.JP\", \"stooq\")\n",
    "df"
   ]
  },
  {
   "cell_type": "code",
   "execution_count": 10,
   "metadata": {},
   "outputs": [
    {
     "data": {
      "text/plain": [
       "DatetimeIndex(['2025-06-25', '2025-06-24', '2025-06-23', '2025-06-20',\n",
       "               '2025-06-19', '2025-06-18', '2025-06-17', '2025-06-16',\n",
       "               '2025-06-13', '2025-06-12',\n",
       "               ...\n",
       "               '2020-07-10', '2020-07-09', '2020-07-08', '2020-07-07',\n",
       "               '2020-07-06', '2020-07-03', '2020-07-02', '2020-07-01',\n",
       "               '2020-06-30', '2020-06-29'],\n",
       "              dtype='datetime64[ns]', name='Date', length=1221, freq=None)"
      ]
     },
     "execution_count": 10,
     "metadata": {},
     "output_type": "execute_result"
    }
   ],
   "source": [
    "df.index"
   ]
  },
  {
   "cell_type": "code",
   "execution_count": null,
   "metadata": {},
   "outputs": [],
   "source": [
    "from ../notebooks"
   ]
  }
 ],
 "metadata": {
  "kernelspec": {
   "display_name": ".venv",
   "language": "python",
   "name": "python3"
  },
  "language_info": {
   "codemirror_mode": {
    "name": "ipython",
    "version": 3
   },
   "file_extension": ".py",
   "mimetype": "text/x-python",
   "name": "python",
   "nbconvert_exporter": "python",
   "pygments_lexer": "ipython3",
   "version": "3.12.3"
  }
 },
 "nbformat": 4,
 "nbformat_minor": 2
}
